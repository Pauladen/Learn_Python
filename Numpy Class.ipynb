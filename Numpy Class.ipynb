{
 "cells": [
  {
   "cell_type": "code",
   "execution_count": 6,
   "id": "a5bfb46f-8c25-4e99-9379-5afaad3e3594",
   "metadata": {},
   "outputs": [],
   "source": [
    "# First Class(Numpy): Fri 2025/02/14"
   ]
  },
  {
   "cell_type": "code",
   "execution_count": 1,
   "id": "caf15708-f066-4692-b226-bc6d3dbb0a54",
   "metadata": {},
   "outputs": [],
   "source": [
    "import numpy as np"
   ]
  },
  {
   "cell_type": "code",
   "execution_count": 15,
   "id": "c8914673-2f4f-4ac5-a054-9c5c3c1ae239",
   "metadata": {},
   "outputs": [
    {
     "name": "stdout",
     "output_type": "stream",
     "text": [
      "[1 2 3 4]\n"
     ]
    },
    {
     "data": {
      "text/plain": [
       "2.5"
      ]
     },
     "execution_count": 15,
     "metadata": {},
     "output_type": "execute_result"
    }
   ],
   "source": [
    "arr = np.array([1,2,3,4])\n",
    "print(arr)\n",
    "np.mean(arr)"
   ]
  },
  {
   "cell_type": "markdown",
   "id": "45738dd6-77c7-454f-85e9-bea20bb4c8a8",
   "metadata": {},
   "source": [
    "## Class Work:"
   ]
  },
  {
   "cell_type": "code",
   "execution_count": null,
   "id": "ca56848a-c812-4753-bb63-0679c92b5e37",
   "metadata": {},
   "outputs": [],
   "source": [
    "# Create a 1D array with values ranging from 0 to 9"
   ]
  },
  {
   "cell_type": "code",
   "execution_count": 30,
   "id": "1ab30d02-3817-42cd-9cbd-bbc73b1a12ae",
   "metadata": {},
   "outputs": [
    {
     "name": "stdout",
     "output_type": "stream",
     "text": [
      "[0 1 2 3 4 5 6 7 8 9]\n"
     ]
    }
   ],
   "source": [
    "arr_2 = np.arange(10)\n",
    "print(arr_2)"
   ]
  },
  {
   "cell_type": "markdown",
   "id": "3e77a125-cc5d-48ec-ba31-8ea2f9e7a915",
   "metadata": {},
   "source": [
    "## Home Work:"
   ]
  },
  {
   "cell_type": "code",
   "execution_count": 2,
   "id": "7c758d2f-9dfa-4c3b-9a61-4e15a1dffdd8",
   "metadata": {},
   "outputs": [],
   "source": [
    "# Convert a 1D array to a 2D array with 2 rows"
   ]
  },
  {
   "cell_type": "code",
   "execution_count": 16,
   "id": "90b678ce-01a3-49de-93f0-fc6ca5fa290c",
   "metadata": {},
   "outputs": [
    {
     "data": {
      "text/plain": [
       "array([[1, 2],\n",
       "       [3, 4]])"
      ]
     },
     "execution_count": 16,
     "metadata": {},
     "output_type": "execute_result"
    }
   ],
   "source": [
    "arr_3 = np.reshape(arr, (2,2))\n",
    "arr_3"
   ]
  },
  {
   "cell_type": "code",
   "execution_count": 4,
   "id": "03125135-3d05-4227-94ef-842920d0bd76",
   "metadata": {},
   "outputs": [],
   "source": [
    "# Extract all odd numbers from an array of 1-10"
   ]
  },
  {
   "cell_type": "code",
   "execution_count": 24,
   "id": "0ff31780-0134-4021-83b8-7e4d2cb7f830",
   "metadata": {},
   "outputs": [
    {
     "data": {
      "text/plain": [
       "array([ 0,  1,  2,  3,  4,  5,  6,  7,  8,  9, 10])"
      ]
     },
     "execution_count": 24,
     "metadata": {},
     "output_type": "execute_result"
    }
   ],
   "source": [
    "arr_4 = np.arange(11)\n",
    "arr_4"
   ]
  },
  {
   "cell_type": "code",
   "execution_count": 26,
   "id": "5f5aae12-0722-4c22-80cc-8746152bbc82",
   "metadata": {},
   "outputs": [
    {
     "data": {
      "text/plain": [
       "array([ 1,  2,  3,  4,  5,  6,  7,  8,  9, 10])"
      ]
     },
     "execution_count": 26,
     "metadata": {},
     "output_type": "execute_result"
    }
   ],
   "source": [
    "arr_5 = arr_4[1:11]\n",
    "arr_5"
   ]
  },
  {
   "cell_type": "code",
   "execution_count": 28,
   "id": "1ce0a96d-a6b8-456e-b34f-88dbacc1f84e",
   "metadata": {},
   "outputs": [
    {
     "data": {
      "text/plain": [
       "array([1, 3, 5, 7, 9])"
      ]
     },
     "execution_count": 28,
     "metadata": {},
     "output_type": "execute_result"
    }
   ],
   "source": [
    "odd_nums = arr_5[arr_5 % 2 != 0]\n",
    "odd_nums"
   ]
  },
  {
   "cell_type": "markdown",
   "id": "9f21a6eb-d98d-4b11-9d78-bd613e8b7366",
   "metadata": {},
   "source": [
    "## Home Work: Install and import python Library for database access"
   ]
  },
  {
   "cell_type": "code",
   "execution_count": 10,
   "id": "449cedcc-2cf8-476a-b8db-bcc9f732d675",
   "metadata": {},
   "outputs": [
    {
     "name": "stdout",
     "output_type": "stream",
     "text": [
      "Requirement already satisfied: pyodbc in c:\\users\\machine\\anaconda3\\lib\\site-packages (5.1.0)\n",
      "Note: you may need to restart the kernel to use updated packages.\n"
     ]
    }
   ],
   "source": [
    "pip install pyodbc"
   ]
  },
  {
   "cell_type": "code",
   "execution_count": 12,
   "id": "8535b7e5-8c71-4027-8216-afd4e257f3c6",
   "metadata": {},
   "outputs": [],
   "source": [
    "import pyodbc"
   ]
  },
  {
   "cell_type": "code",
   "execution_count": null,
   "id": "214b11c8-134c-499c-a301-2965f1bf9aac",
   "metadata": {},
   "outputs": [],
   "source": []
  },
  {
   "cell_type": "code",
   "execution_count": null,
   "id": "a07d5cd9-6ed6-40a5-b1e6-691149f741d7",
   "metadata": {},
   "outputs": [],
   "source": []
  }
 ],
 "metadata": {
  "kernelspec": {
   "display_name": "Python [conda env:base] *",
   "language": "python",
   "name": "conda-base-py"
  },
  "language_info": {
   "codemirror_mode": {
    "name": "ipython",
    "version": 3
   },
   "file_extension": ".py",
   "mimetype": "text/x-python",
   "name": "python",
   "nbconvert_exporter": "python",
   "pygments_lexer": "ipython3",
   "version": "3.12.7"
  }
 },
 "nbformat": 4,
 "nbformat_minor": 5
}
